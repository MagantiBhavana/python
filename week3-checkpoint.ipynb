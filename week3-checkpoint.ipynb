{
 "cells": [
  {
   "cell_type": "markdown",
   "id": "c0bb2ce5",
   "metadata": {},
   "source": [
    "# week3"
   ]
  },
  {
   "cell_type": "code",
   "execution_count": 1,
   "id": "c58efec5",
   "metadata": {},
   "outputs": [
    {
     "name": "stdout",
     "output_type": "stream",
     "text": [
      "enter an integer:6\n",
      "1\n",
      "2\n",
      "3\n",
      "6 is not defecient number\n"
     ]
    }
   ],
   "source": [
    "#defeicient number(sum of factors is less than the number)\n",
    "n=int(input(\"enter an integer:\"))\n",
    "s=0\n",
    "for i in range (1,n):\n",
    "    if(n%i==0):\n",
    "        print(i)\n",
    "        s+=i\n",
    "if(s<n):\n",
    "    print(n,\"is a deficient number\")\n",
    "else:\n",
    "    print(n,\"is not defecient number\")"
   ]
  },
  {
   "cell_type": "code",
   "execution_count": 2,
   "id": "e1ddf9c7",
   "metadata": {},
   "outputs": [
    {
     "name": "stdout",
     "output_type": "stream",
     "text": [
      "enter a number:4\n",
      "4 is a composite number\n"
     ]
    }
   ],
   "source": [
    "#composite number(more than one factor excluding 1,n)\n",
    "n=int(input(\"enter a number:\"))\n",
    "flag=0\n",
    "for i in range (2,n):\n",
    "    if(n%i==0):\n",
    "        flag=1\n",
    "        break;\n",
    "if(flag==0):\n",
    "    print(n,\"is not composite number\")\n",
    "else:\n",
    "    print(n,\"is a composite number\")"
   ]
  },
  {
   "cell_type": "code",
   "execution_count": 3,
   "id": "632ad08b",
   "metadata": {},
   "outputs": [
    {
     "name": "stdout",
     "output_type": "stream",
     "text": [
      "enter a number:12\n",
      "1\n",
      "2\n",
      "3\n",
      "4\n",
      "6\n",
      "12 is a abundant number\n"
     ]
    }
   ],
   "source": [
    "#abundant number(sum of factors is greater than n)(opposite to defeicient number)\n",
    "n=int(input(\"enter a number:\"))\n",
    "s=0\n",
    "for i in range (1,n):\n",
    "    if(n%i==0):\n",
    "        print(i)\n",
    "        s+=i\n",
    "if(s>n):\n",
    "    print(n,\"is a abundant number\")\n",
    "else:\n",
    "    print(n,\"is not a abundant number\")"
   ]
  },
  {
   "cell_type": "code",
   "execution_count": 6,
   "id": "2d10765b",
   "metadata": {},
   "outputs": [
    {
     "name": "stdout",
     "output_type": "stream",
     "text": [
      "enter a number:56\n",
      "56 is a pronic number since it is product of 1 and 2\n"
     ]
    }
   ],
   "source": [
    "#pronic number(product of 2 consecutive integers)\n",
    "n=int(input(\"enter a number:\"))\n",
    "for i in range (1,n):\n",
    "    if(n%i==0 and n%(i+1)==0):\n",
    "        print(n,\"is a pronic number since it is product of\",i,\"and\",i+1)\n",
    "        break;\n",
    "    else:\n",
    "        print(n,\"is a not pronic number since it is not product of\",i,\"and\",i+1)"
   ]
  },
  {
   "cell_type": "code",
   "execution_count": 10,
   "id": "5b509f56",
   "metadata": {},
   "outputs": [
    {
     "name": "stdout",
     "output_type": "stream",
     "text": [
      "enter a number:5\n",
      "5 is automorphic number.its square is 25\n"
     ]
    }
   ],
   "source": [
    "#automorphic number(last digits are square of the number)\n",
    "a=int(input(\"enter a number:\"))\n",
    "k,n=0,a\n",
    "while(n):\n",
    "    n//=10\n",
    "    k+=1\n",
    "if((a*a)%pow(10,k)==a):\n",
    "    print(a,\"is automorphic number.its square is\",a*a)\n",
    "else:\n",
    "    print(a,\"is not automorphic number.its square is\",a*a)"
   ]
  },
  {
   "cell_type": "code",
   "execution_count": 16,
   "id": "94c54066",
   "metadata": {},
   "outputs": [
    {
     "name": "stdout",
     "output_type": "stream",
     "text": [
      "enter a number:145\n",
      "120\n",
      "24\n",
      "1\n",
      "145 is a special number\n"
     ]
    }
   ],
   "source": [
    "#krishnamurthy number or special number(sum of factorial of digits is equal to number)\n",
    "a=int(input(\"enter a number:\"))\n",
    "n,suma=a,0\n",
    "while(n):\n",
    "    k=n%10\n",
    "    r=1\n",
    "    for i in range(1,k+1):\n",
    "        r*=i\n",
    "    suma+=r\n",
    "    n//=10\n",
    "    print(r)\n",
    "if(suma==a):\n",
    "    print(a,\"is a special number\")\n",
    "else:\n",
    "    print(a,\"is not special number\")"
   ]
  },
  {
   "cell_type": "code",
   "execution_count": null,
   "id": "43e213da",
   "metadata": {},
   "outputs": [],
   "source": []
  }
 ],
 "metadata": {
  "kernelspec": {
   "display_name": "Python 3 (ipykernel)",
   "language": "python",
   "name": "python3"
  },
  "language_info": {
   "codemirror_mode": {
    "name": "ipython",
    "version": 3
   },
   "file_extension": ".py",
   "mimetype": "text/x-python",
   "name": "python",
   "nbconvert_exporter": "python",
   "pygments_lexer": "ipython3",
   "version": "3.11.4"
  }
 },
 "nbformat": 4,
 "nbformat_minor": 5
}
