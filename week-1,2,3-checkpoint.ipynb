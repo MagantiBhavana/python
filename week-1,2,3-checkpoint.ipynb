{
 "cells": [
  {
   "cell_type": "markdown",
   "id": "9a72058e",
   "metadata": {},
   "source": [
    "# week1"
   ]
  },
  {
   "cell_type": "code",
   "execution_count": 8,
   "id": "9947576e",
   "metadata": {},
   "outputs": [
    {
     "name": "stdout",
     "output_type": "stream",
     "text": [
      "enter name:bhavana\n",
      "enter age:18\n",
      "enter branchcsbs\n",
      "enter roll number:28\n",
      "bhavana\n",
      "18\n",
      "csbs\n",
      "28\n"
     ]
    }
   ],
   "source": [
    "#display personal info\n",
    "name=input(\"enter name:\")\n",
    "age=input(\"enter age:\")\n",
    "branch=input(\"enter branch\")\n",
    "rollno=input(\"enter roll number:\")\n",
    "print(name)\n",
    "print(age)\n",
    "print(branch)\n",
    "print(rollno)"
   ]
  },
  {
   "cell_type": "code",
   "execution_count": 9,
   "id": "5c5311b8",
   "metadata": {},
   "outputs": [
    {
     "name": "stdout",
     "output_type": "stream",
     "text": [
      "enter radius of sphere:5\n",
      "523.3333333333334\n"
     ]
    }
   ],
   "source": [
    "#volume of sphere\n",
    "pi=3.14\n",
    "r=int(input(\"enter radius of sphere:\"))\n",
    "print(4*pi*r*r*r/3)"
   ]
  },
  {
   "cell_type": "code",
   "execution_count": 10,
   "id": "80ad784d",
   "metadata": {},
   "outputs": [
    {
     "name": "stdout",
     "output_type": "stream",
     "text": [
      "enter principle:3\n",
      "enter time:3\n",
      "enter rate of interest:3\n",
      "enter years:3\n",
      "compound interest= 1536.0\n"
     ]
    }
   ],
   "source": [
    "#compound interest\n",
    "p=int(input(\"enter principle:\"))\n",
    "t=int(input(\"enter time:\"))\n",
    "r=int(input(\"enter rate of interest:\"))\n",
    "n=int(input(\"enter years:\"))\n",
    "print(\"compound interest=\",p*(1+r/n)**(n*t))"
   ]
  },
  {
   "cell_type": "code",
   "execution_count": 12,
   "id": "41fe69ab",
   "metadata": {},
   "outputs": [
    {
     "name": "stdout",
     "output_type": "stream",
     "text": [
      "1\n",
      "2\n",
      "3\n",
      "4\n",
      "5\n"
     ]
    },
    {
     "data": {
      "text/plain": [
       "3.0"
      ]
     },
     "execution_count": 12,
     "metadata": {},
     "output_type": "execute_result"
    }
   ],
   "source": [
    "#mean of 5 numbers\n",
    "a=int(input())\n",
    "b=int(input())\n",
    "c=int(input())\n",
    "d=int(input())\n",
    "e=int(input())\n",
    "mean=(a+b+c+d+e)/5;\n",
    "mean"
   ]
  },
  {
   "cell_type": "code",
   "execution_count": 13,
   "id": "c59a118c",
   "metadata": {},
   "outputs": [
    {
     "name": "stdout",
     "output_type": "stream",
     "text": [
      "enter a number:10\n",
      "enter a number:5\n",
      "sum is 15\n",
      "sub is 5\n",
      "mul is 50\n",
      "div is 2.0\n",
      "a power b is 100000\n",
      "remainder is 0\n"
     ]
    }
   ],
   "source": [
    "#arithematic operations\n",
    "a=int(input(\"enter a number:\"))\n",
    "b=int(input(\"enter a number:\"))\n",
    "print(\"sum is\",a+b)\n",
    "print(\"sub is\",a-b)\n",
    "print(\"mul is\",a*b)\n",
    "print(\"div is\",a/b)\n",
    "print(\"a power b is\",a**b)\n",
    "print(\"remainder is\",a%b)"
   ]
  },
  {
   "cell_type": "code",
   "execution_count": 14,
   "id": "ce8886f8",
   "metadata": {},
   "outputs": [
    {
     "name": "stdout",
     "output_type": "stream",
     "text": [
      "enter a number:10\n",
      "enter a number:5\n",
      "a is greater than b: True\n",
      "a is greater than or equal to b: True\n",
      "a is less than b: False\n",
      "a is less than or equal to b: False\n",
      "a is equal to b  False\n",
      "a is not equal to b  True\n"
     ]
    }
   ],
   "source": [
    "#relational operators\n",
    "a=int(input(\"enter a number:\"))\n",
    "b=int(input(\"enter a number:\"))\n",
    "print(\"a is greater than b:\",a>b)\n",
    "print(\"a is greater than or equal to b:\",a>=b)\n",
    "print(\"a is less than b:\",a<b)\n",
    "print(\"a is less than or equal to b:\",a<=b)\n",
    "print(\"a is equal to b \",a==b)\n",
    "print(\"a is not equal to b \",a!=b)"
   ]
  },
  {
   "cell_type": "code",
   "execution_count": 15,
   "id": "25ed434d",
   "metadata": {},
   "outputs": [
    {
     "name": "stdout",
     "output_type": "stream",
     "text": [
      "enter a number:2\n",
      "enter a number:6\n",
      "a<<b is 128\n",
      "a>>b  is 0\n",
      "a&b is 2\n",
      "a|b is 6\n",
      "a^b is 4\n"
     ]
    }
   ],
   "source": [
    "#bitwise operators\n",
    "a=int(input(\"enter a number:\"))\n",
    "b=int(input(\"enter a number:\"))\n",
    "print(\"a<<b is\",a<<b)\n",
    "print(\"a>>b  is\",a>>b)\n",
    "print(\"a&b is\",a&b)\n",
    "print(\"a|b is\",a|b)\n",
    "print(\"a^b is\",a^b)"
   ]
  },
  {
   "cell_type": "code",
   "execution_count": 17,
   "id": "4c41e667",
   "metadata": {},
   "outputs": [
    {
     "name": "stdout",
     "output_type": "stream",
     "text": [
      "a and b: False\n",
      "a or b: True\n",
      "not a: False\n",
      "not b: True\n"
     ]
    }
   ],
   "source": [
    "#logical operators\n",
    "a=True\n",
    "b=False\n",
    "print(\"a and b:\",a and b)\n",
    "print(\"a or b:\",a or b)\n",
    "print(\"not a:\",not a)\n",
    "print(\"not b:\",not b)"
   ]
  },
  {
   "cell_type": "code",
   "execution_count": 20,
   "id": "b1c98d84",
   "metadata": {},
   "outputs": [
    {
     "name": "stdout",
     "output_type": "stream",
     "text": [
      "enter 3 numbers:\n",
      "3\n",
      "10\n",
      "12\n",
      "greatest is 12\n"
     ]
    }
   ],
   "source": [
    "#biggest amoung 3 numbers\n",
    "print(\"enter 3 numbers:\")\n",
    "a=int(input())\n",
    "b=int(input())\n",
    "c=int(input())\n",
    "if(a>b and a>c):\n",
    "    print(\"greatest is\",a)\n",
    "elif(b>a and b>c):\n",
    "    print(\"greatest is\",b)\n",
    "else:\n",
    "    print(\"greatest is\",c)"
   ]
  },
  {
   "cell_type": "code",
   "execution_count": 22,
   "id": "267d7aa1",
   "metadata": {},
   "outputs": [
    {
     "name": "stdout",
     "output_type": "stream",
     "text": [
      "enter a number:123\n",
      "321\n"
     ]
    }
   ],
   "source": [
    "#reverse a number\n",
    "n=int(input(\"enter a number:\"))\n",
    "r=0\n",
    "while n>0:\n",
    "    d=n%10\n",
    "    r=r*10+d\n",
    "    n//=10\n",
    "print(r)"
   ]
  },
  {
   "cell_type": "code",
   "execution_count": 24,
   "id": "029fe69e",
   "metadata": {},
   "outputs": [
    {
     "name": "stdout",
     "output_type": "stream",
     "text": [
      "4\n",
      "[2, 4]\n",
      "6\n",
      "[1, 3]\n",
      "4\n"
     ]
    }
   ],
   "source": [
    "#even and odd numbers upto a given number n\n",
    "even=[]\n",
    "odd=[]\n",
    "es=0\n",
    "os=0\n",
    "n=int(input())\n",
    "for i in range(1,n+1):\n",
    "    if(i%2==0):\n",
    "        even.append(i)\n",
    "        es+=i\n",
    "    else:\n",
    "        odd.append(i)\n",
    "        os+=i\n",
    "print(even)\n",
    "print(es)\n",
    "print(odd)\n",
    "print(os)"
   ]
  },
  {
   "cell_type": "code",
   "execution_count": 25,
   "id": "b3f840ff",
   "metadata": {},
   "outputs": [
    {
     "name": "stdout",
     "output_type": "stream",
     "text": [
      "12\n",
      "5\n",
      "45\n",
      "2\n",
      "second largest: 12\n"
     ]
    }
   ],
   "source": [
    "#2nd largest amoung 4 numbers\n",
    "a=int(input())\n",
    "b=int(input())\n",
    "c=int(input())\n",
    "d-int(input())\n",
    "t=(a,b,c,d)\n",
    "s=sorted(t,reverse=True)\n",
    "print(\"second largest:\",s[1])"
   ]
  },
  {
   "cell_type": "markdown",
   "id": "ebf57fc0",
   "metadata": {},
   "source": [
    "# week2"
   ]
  },
  {
   "cell_type": "code",
   "execution_count": 26,
   "id": "a6b17bc7",
   "metadata": {},
   "outputs": [
    {
     "name": "stdout",
     "output_type": "stream",
     "text": [
      "enter a number:10\n",
      "even number\n"
     ]
    }
   ],
   "source": [
    "#even or odd\n",
    "n=int(input(\"enter a number:\"))\n",
    "if(n%2==0):\n",
    "    print(\"even number\")\n",
    "else:\n",
    "    print(\"odd number\")"
   ]
  },
  {
   "cell_type": "code",
   "execution_count": 27,
   "id": "621ffc1e",
   "metadata": {},
   "outputs": [
    {
     "name": "stdout",
     "output_type": "stream",
     "text": [
      "10\n",
      "2\n",
      "45\n",
      "descending order: [45, 10, 2]\n",
      "ascending order: [2, 10, 45]\n"
     ]
    }
   ],
   "source": [
    "#ascending and descending order\n",
    "a=int(input())\n",
    "b=int(input())\n",
    "c=int(input())\n",
    "t=(a,b,c)\n",
    "s=sorted(t,reverse=True)\n",
    "print(\"descending order:\",s)\n",
    "p=sorted(t,reverse=False)\n",
    "print(\"ascending order:\",p)"
   ]
  },
  {
   "cell_type": "code",
   "execution_count": 29,
   "id": "359e5fc1",
   "metadata": {},
   "outputs": [
    {
     "name": "stdout",
     "output_type": "stream",
     "text": [
      "enter talk time:500\n",
      "enter text:0\n",
      "enter data:0\n",
      "plan c at $61 per month\n"
     ]
    }
   ],
   "source": [
    "#cellphone service\n",
    "ta=int(input(\"enter talk time:\"))\n",
    "te=int(input(\"enter text:\"))\n",
    "data=int(input(\"enter data:\"))\n",
    "if(ta<500 and te==0 and data==0):\n",
    "    print(\"plan a at $49 per month\")\n",
    "elif(ta<500 and te>0):\n",
    "    print(\"plan b at $55 per month\")\n",
    "elif(ta>=500 and data==0 and te<100):\n",
    "    print(\"plan c at $61 per month\")\n",
    "elif(ta>=500 and data==0 and te>=100):\n",
    "    print(\"plan d at $70 per month\")\n",
    "elif(data<3):\n",
    "    print(\"plan e at $79 per month\")\n",
    "else:\n",
    "    print(\"plan f at $87 per month\")"
   ]
  },
  {
   "cell_type": "code",
   "execution_count": 30,
   "id": "8fa84c0b",
   "metadata": {},
   "outputs": [
    {
     "name": "stdout",
     "output_type": "stream",
     "text": [
      "enter date20\n",
      "enter month10\n",
      "enter year2020\n",
      "not this year\n"
     ]
    }
   ],
   "source": [
    "#past present future\n",
    "date=int(input(\"enter date\"))\n",
    "month=int(input(\"enter month\"))\n",
    "year=int(input(\"enter year\"))\n",
    "if(year!=2023):\n",
    "    print(\"not this year\")\n",
    "elif(month==10):\n",
    "    print(\"earlier this month\")\n",
    "elif(month==12):\n",
    "    print(\"later of this month\")\n",
    "else:\n",
    "    print(\"in this month\")"
   ]
  },
  {
   "cell_type": "code",
   "execution_count": 32,
   "id": "620df64b",
   "metadata": {},
   "outputs": [
    {
     "name": "stdout",
     "output_type": "stream",
     "text": [
      "1:queen bed,2:king bed,3:king and pullout couch2\n",
      "you have chosen king bed\n",
      "price of the room is $139\n"
     ]
    }
   ],
   "source": [
    "#shady restroom\n",
    "a=int(input(\"1:queen bed,2:king bed,3:king and pullout couch\"))\n",
    "if(a==1):\n",
    "    print(\"you have chosen queen bed\")\n",
    "    print(\"price of the room is $125\")\n",
    "elif(a==2):\n",
    "    print(\"you have chosen king bed\")\n",
    "    print(\"price of the room is $139\")\n",
    "elif(a==3):\n",
    "    print(\"you have chosen king and pullout couch\")\n",
    "    print(\"price of the room is $165\")\n",
    "else:\n",
    "    print(\"you have not chosen any room\")"
   ]
  },
  {
   "cell_type": "markdown",
   "id": "968df1dd",
   "metadata": {},
   "source": [
    "# week3"
   ]
  },
  {
   "cell_type": "code",
   "execution_count": 33,
   "id": "41ebb14f",
   "metadata": {},
   "outputs": [
    {
     "name": "stdout",
     "output_type": "stream",
     "text": [
      "enter an integer:6\n",
      "1\n",
      "2\n",
      "3\n",
      "6 is not defecient number\n"
     ]
    }
   ],
   "source": [
    "#defeicient number(sum of factors is less than the number)\n",
    "n=int(input(\"enter an integer:\"))\n",
    "s=0\n",
    "for i in range (1,n):\n",
    "    if(n%i==0):\n",
    "        print(i)\n",
    "        s+=i\n",
    "if(s<n):\n",
    "    print(n,\"is a deficient number\")\n",
    "else:\n",
    "    print(n,\"is not defecient number\")"
   ]
  },
  {
   "cell_type": "code",
   "execution_count": 36,
   "id": "d6c6a440",
   "metadata": {},
   "outputs": [
    {
     "name": "stdout",
     "output_type": "stream",
     "text": [
      "enter a number:4\n",
      "4 is a composite number\n"
     ]
    }
   ],
   "source": [
    "#composite number(more than one factor excluding 1,n)\n",
    "n=int(input(\"enter a number:\"))\n",
    "flag=0\n",
    "for i in range (2,n):\n",
    "    if(n%i==0):\n",
    "        flag=1\n",
    "        break;\n",
    "if(flag==0):\n",
    "    print(n,\"is not composite number\")\n",
    "else:\n",
    "    print(n,\"is a composite number\")"
   ]
  },
  {
   "cell_type": "code",
   "execution_count": 2,
   "id": "9eb88fac",
   "metadata": {},
   "outputs": [
    {
     "name": "stdout",
     "output_type": "stream",
     "text": [
      "enter a number:12\n",
      "1\n",
      "2\n",
      "3\n",
      "4\n",
      "6\n",
      "12 is a abundant number\n"
     ]
    }
   ],
   "source": [
    "#abundant number(sum of factors is greater than n)(opposite to defeicient number)\n",
    "n=int(input(\"enter a number:\"))\n",
    "s=0\n",
    "for i in range (1,n):\n",
    "    if(n%i==0):\n",
    "        print(i)\n",
    "        s+=i\n",
    "if(s>n):\n",
    "    print(n,\"is a abundant number\")\n",
    "else:\n",
    "    print(n,\"is not a abundant number\")"
   ]
  },
  {
   "cell_type": "code",
   "execution_count": 3,
   "id": "ad4a886a",
   "metadata": {},
   "outputs": [
    {
     "name": "stdout",
     "output_type": "stream",
     "text": [
      "enter an integer5\n",
      "5 is a prime number\n"
     ]
    }
   ],
   "source": [
    "#prime number\n",
    "n=int(input(\"enter an integer\"))\n",
    "flag=0;\n",
    "for i in range(2,n):\n",
    "    if(n%i==0):\n",
    "        flag=1\n",
    "        break\n",
    "if(flag==0):\n",
    "    print(n,\"is a prime number\")\n",
    "else:\n",
    "    print(n,\"is not a prime number\")"
   ]
  },
  {
   "cell_type": "code",
   "execution_count": 4,
   "id": "d8b97afa",
   "metadata": {},
   "outputs": [
    {
     "name": "stdout",
     "output_type": "stream",
     "text": [
      "enter an integer56\n",
      "56 is a pronic number since 7 8 are factors to 56\n"
     ]
    }
   ],
   "source": [
    "#pronic number\n",
    "n=int(input(\"enter an integer\"))\n",
    "for i in range(2,n):\n",
    "    if(n%i==0 and n%(i+1)==0):\n",
    "        print(n,\"is a pronic number since\",i,i+1,\"are factors to\",n)\n",
    "        break\n",
    "else:\n",
    "    print(n,\"is not pronic number\")"
   ]
  },
  {
   "cell_type": "code",
   "execution_count": 5,
   "id": "208bfe64",
   "metadata": {},
   "outputs": [
    {
     "name": "stdout",
     "output_type": "stream",
     "text": [
      "enter an integer25\n",
      "25 is automorphic number as its square is 625\n"
     ]
    }
   ],
   "source": [
    "#automorphic number\n",
    "a=int(input(\"enter an integer\"))\n",
    "n=a\n",
    "k=0;\n",
    "while(n):\n",
    "    n//=10\n",
    "    k+=1\n",
    "if((a*a)%pow(10,k)==a):\n",
    "    print(a,\"is automorphic number as its square is\",a*a)\n",
    "else:\n",
    "    print(a,\"is not automorphic number as its square is\",a*a)"
   ]
  },
  {
   "cell_type": "code",
   "execution_count": null,
   "id": "6550275b",
   "metadata": {},
   "outputs": [],
   "source": [
    "#krishna murthy number\n",
    "a=int(input(\"enter an integer\"))\n",
    "n=a\n",
    "k=0\n",
    "suma=a;\n",
    "while(n):\n",
    "    k=n%10;\n",
    "    r=1\n",
    "for i in range(1,1+k):\n",
    "    r*=i\n",
    "    suma+=r\n",
    "    n//=10\n",
    "print(r)\n",
    "    if(suma==a):\n",
    "     print(a,\"is a special number since sum of the numbers is equal to\",a)\n",
    "    else:\n",
    "     print(a,\"is not a special number since sum of the numbers is not equal to\",a)"
   ]
  },
  {
   "cell_type": "code",
   "execution_count": null,
   "id": "406a8d47",
   "metadata": {},
   "outputs": [],
   "source": []
  }
 ],
 "metadata": {
  "kernelspec": {
   "display_name": "Python 3 (ipykernel)",
   "language": "python",
   "name": "python3"
  },
  "language_info": {
   "codemirror_mode": {
    "name": "ipython",
    "version": 3
   },
   "file_extension": ".py",
   "mimetype": "text/x-python",
   "name": "python",
   "nbconvert_exporter": "python",
   "pygments_lexer": "ipython3",
   "version": "3.11.4"
  }
 },
 "nbformat": 4,
 "nbformat_minor": 5
}
