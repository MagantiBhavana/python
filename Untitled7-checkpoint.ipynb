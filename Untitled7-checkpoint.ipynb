{
 "cells": [
  {
   "cell_type": "code",
   "execution_count": 1,
   "id": "d180d0af",
   "metadata": {},
   "outputs": [
    {
     "name": "stdout",
     "output_type": "stream",
     "text": [
      "enter an integer21\n",
      "1\n",
      "3\n",
      "7\n",
      "11 is less than 21 hence it is a defeicient number\n"
     ]
    }
   ],
   "source": [
    "#defiecient number\n",
    "n=int(input(\"enter an integer\"))\n",
    "sum=0;\n",
    "for i in range(1,n):\n",
    "    if(n%i==0):\n",
    "        print(i)\n",
    "        sum+=i\n",
    "if(sum<n):\n",
    "    print(sum,\"is less than\",n,\"hence it is a defeicient number\")\n",
    "else:\n",
    "    print(sum,\"is not less than\",n,\"hence it is not defeicient number\")"
   ]
  },
  {
   "cell_type": "code",
   "execution_count": 3,
   "id": "20fcead4",
   "metadata": {},
   "outputs": [
    {
     "name": "stdout",
     "output_type": "stream",
     "text": [
      "enter an integer12\n",
      "1\n",
      "2\n",
      "3\n",
      "4\n",
      "6\n",
      "16 is greater than 12 hence it is abundant number\n"
     ]
    }
   ],
   "source": [
    "#abundant number\n",
    "n=int(input(\"enter an integer\"))\n",
    "sum=0;\n",
    "for i in range(1,n):\n",
    "    if(n%i==0):\n",
    "        print(i)\n",
    "        sum+=i\n",
    "if(sum>n):\n",
    "    print(sum,\"is greater than\",n,\"hence it is abundant number\")\n",
    "else:\n",
    "    print(sum,\"is not greater than\",n,\"hence it is not abundant number\")"
   ]
  },
  {
   "cell_type": "code",
   "execution_count": 4,
   "id": "f405ceba",
   "metadata": {},
   "outputs": [
    {
     "name": "stdout",
     "output_type": "stream",
     "text": [
      "enter an integer6\n",
      "6 is a composite number\n"
     ]
    }
   ],
   "source": [
    "#composite number\n",
    "n=int(input(\"enter an integer\"))\n",
    "flag=0;\n",
    "for i in range(2,n):\n",
    "    if(n%i==0):\n",
    "        flag=1\n",
    "        break\n",
    "if(flag==1):\n",
    "    print(n,\"is a composite number\")\n",
    "else:\n",
    "    print(n,\"is not a composite number\")"
   ]
  },
  {
   "cell_type": "code",
   "execution_count": 6,
   "id": "b852edb9",
   "metadata": {},
   "outputs": [
    {
     "name": "stdout",
     "output_type": "stream",
     "text": [
      "enter an integer5\n",
      "5 is a prime number\n"
     ]
    }
   ],
   "source": [
    "#prime number\n",
    "n=int(input(\"enter an integer\"))\n",
    "flag=0;\n",
    "for i in range(2,n):\n",
    "    if(n%i==0):\n",
    "        flag=1\n",
    "        break\n",
    "if(flag==0):\n",
    "    print(n,\"is a prime number\")\n",
    "else:\n",
    "    print(n,\"is not a prime number\")"
   ]
  },
  {
   "cell_type": "code",
   "execution_count": 10,
   "id": "e236e12e",
   "metadata": {},
   "outputs": [
    {
     "name": "stdout",
     "output_type": "stream",
     "text": [
      "enter an integer56\n",
      "56 is a pronic number since 7 8 are factors to 56\n"
     ]
    }
   ],
   "source": [
    "#pronic number\n",
    "n=int(input(\"enter an integer\"))\n",
    "for i in range(2,n):\n",
    "    if(n%i==0 and n%(i+1)==0):\n",
    "        print(n,\"is a pronic number since\",i,i+1,\"are factors to\",n)\n",
    "        break\n",
    "else:\n",
    "    print(n,\"is not pronic number\")"
   ]
  },
  {
   "cell_type": "code",
   "execution_count": 18,
   "id": "f34f8548",
   "metadata": {},
   "outputs": [
    {
     "name": "stdout",
     "output_type": "stream",
     "text": [
      "enter an integer25\n",
      "25 is automorphic number as its square is 625\n"
     ]
    }
   ],
   "source": [
    "#automorphic number\n",
    "a=int(input(\"enter an integer\"))\n",
    "n=a\n",
    "k=0;\n",
    "while(n):\n",
    "    n//=10\n",
    "    k+=1\n",
    "if((a*a)%pow(10,k)==a):\n",
    "    print(a,\"is automorphic number as its square is\",a*a)\n",
    "else:\n",
    "    print(a,\"is not automorphic number as its square is\",a*a)"
   ]
  },
  {
   "cell_type": "code",
   "execution_count": null,
   "id": "39ddfa02",
   "metadata": {},
   "outputs": [],
   "source": [
    "#krishna murthy number\n",
    "a=int(input(\"enter an integer\"))\n",
    "n=a\n",
    "k=0\n",
    "suma=a;\n",
    "while(n):\n",
    "    k=n%10;\n",
    "    r=1\n",
    "for i in range(1,1+k):\n",
    "    r*=i\n",
    "    suma+=r\n",
    "    n//=10\n",
    "    print(r)\n",
    "    if(suma==a):\n",
    "     print(a,\"is a special number since sum of the numbers is equal to\",a)\n",
    "    else:\n",
    "     print(a,\"is not a special number since sum of the numbers is not equal to\",a)"
   ]
  },
  {
   "cell_type": "code",
   "execution_count": null,
   "id": "3c4478a1",
   "metadata": {},
   "outputs": [],
   "source": [
    "#krishna murthy number\n",
    "a=int(input(\"enter an integer\"))\n",
    "n=a\n",
    "k=0\n",
    "suma=a;\n",
    "while(n):\n",
    "    k=n%10;\n",
    "    r=1\n",
    "for i in range(1,1+k):\n",
    "    r*=i\n",
    "    suma+=r\n",
    "    n//=10\n",
    "    print(r)\n",
    "    if(suma==a):\n",
    "     print(a,\"is a special number since sum of the numbers is equal to\",a)\n",
    "    else:\n",
    "     print(a,\"is not a special number since sum of the numbers is not equal to\",a)"
   ]
  },
  {
   "cell_type": "code",
   "execution_count": null,
   "id": "3c7bfb89",
   "metadata": {},
   "outputs": [],
   "source": []
  }
 ],
 "metadata": {
  "kernelspec": {
   "display_name": "Python 3 (ipykernel)",
   "language": "python",
   "name": "python3"
  },
  "language_info": {
   "codemirror_mode": {
    "name": "ipython",
    "version": 3
   },
   "file_extension": ".py",
   "mimetype": "text/x-python",
   "name": "python",
   "nbconvert_exporter": "python",
   "pygments_lexer": "ipython3",
   "version": "3.11.4"
  }
 },
 "nbformat": 4,
 "nbformat_minor": 5
}
